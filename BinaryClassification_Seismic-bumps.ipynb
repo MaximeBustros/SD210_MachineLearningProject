{
 "cells": [
  {
   "cell_type": "code",
   "execution_count": 1,
   "metadata": {},
   "outputs": [],
   "source": [
    "import numpy as np\n",
    "import matplotlib.pyplot as plt\n",
    "import tensorflow as tf\n",
    "import pandas as pd\n",
    "from sklearn.preprocessing import OneHotEncoder\n",
    "from sklearn.preprocessing import StandardScaler\n",
    "from sklearn.model_selection import train_test_split\n",
    "from scipy.io.arff import loadarff"
   ]
  },
  {
   "cell_type": "code",
   "execution_count": 2,
   "metadata": {},
   "outputs": [],
   "source": [
    "data, meta = loadarff(\"seismic-bumps.arff\");"
   ]
  },
  {
   "cell_type": "code",
   "execution_count": 3,
   "metadata": {},
   "outputs": [
    {
     "data": {
      "image/png": "[encoded data removed]",
      "text/plain": [
       "<Figure size 432x288 with 1 Axes>"
      ]
     },
     "metadata": {
      "needs_background": "light"
     },
     "output_type": "display_data"
    }
   ],
   "source": [
    "# Our data being very unbalanced and having a very few number of class 1 \n",
    "# We will look at to oversampling after cleaning our data\n",
    "df = pd.DataFrame(data);\n",
    "df['class'].value_counts().plot(kind='bar', title='Count (target)');"
   ]
  },
  {
   "cell_type": "code",
   "execution_count": 4,
   "metadata": {},
   "outputs": [
    {
     "name": "stdout",
     "output_type": "stream",
     "text": [
      "Dataset: seismic-bumps\n",
      "\tseismic's type is nominal, range is ('a', 'b', 'c', 'd')\n",
      "\tseismoacoustic's type is nominal, range is ('a', 'b', 'c', 'd')\n",
      "\tshift's type is nominal, range is ('W', 'N')\n",
      "\tgenergy's type is numeric\n",
      "\tgpuls's type is numeric\n",
      "\tgdenergy's type is numeric\n",
      "\tgdpuls's type is numeric\n",
      "\tghazard's type is nominal, range is ('a', 'b', 'c', 'd')\n",
      "\tnbumps's type is numeric\n",
      "\tnbumps2's type is numeric\n",
      "\tnbumps3's type is numeric\n",
      "\tnbumps4's type is numeric\n",
      "\tnbumps5's type is numeric\n",
      "\tnbumps6's type is numeric\n",
      "\tnbumps7's type is numeric\n",
      "\tnbumps89's type is numeric\n",
      "\tenergy's type is numeric\n",
      "\tmaxenergy's type is numeric\n",
      "\tclass's type is nominal, range is ('1', '0')\n",
      "\n"
     ]
    }
   ],
   "source": [
    "print(meta) # Print Categories"
   ]
  },
  {
   "cell_type": "code",
   "execution_count": 5,
   "metadata": {},
   "outputs": [
    {
     "name": "stdout",
     "output_type": "stream",
     "text": [
      "category = seismic , type =  <class 'numpy.bytes_'>\n",
      "category = seismoacoustic , type =  <class 'numpy.bytes_'>\n",
      "category = shift , type =  <class 'numpy.bytes_'>\n",
      "category = genergy , type =  <class 'numpy.float64'>\n",
      "category = gpuls , type =  <class 'numpy.float64'>\n",
      "category = gdenergy , type =  <class 'numpy.float64'>\n",
      "category = gdpuls , type =  <class 'numpy.float64'>\n",
      "category = ghazard , type =  <class 'numpy.bytes_'>\n",
      "category = nbumps , type =  <class 'numpy.float64'>\n",
      "category = nbumps2 , type =  <class 'numpy.float64'>\n",
      "category = nbumps3 , type =  <class 'numpy.float64'>\n",
      "category = nbumps4 , type =  <class 'numpy.float64'>\n",
      "category = nbumps5 , type =  <class 'numpy.float64'>\n",
      "category = nbumps6 , type =  <class 'numpy.float64'>\n",
      "category = nbumps7 , type =  <class 'numpy.float64'>\n",
      "category = nbumps89 , type =  <class 'numpy.float64'>\n",
      "category = energy , type =  <class 'numpy.float64'>\n",
      "category = maxenergy , type =  <class 'numpy.float64'>\n",
      "category = class , type =  <class 'numpy.bytes_'>\n"
     ]
    }
   ],
   "source": [
    "# Print types of each category\n",
    "for category in data.dtype.names:\n",
    "    print(\"category =\", category, \", type = \", type(data[category][0]));"
   ]
  },
  {
   "cell_type": "markdown",
   "metadata": {},
   "source": [
    "### We have to convert nominal values to onehotencoded to use them in our classification"
   ]
  },
  {
   "cell_type": "code",
   "execution_count": 6,
   "metadata": {},
   "outputs": [
    {
     "name": "stdout",
     "output_type": "stream",
     "text": [
      "      seismic_a  seismic_b\n",
      "0             1          0\n",
      "1             1          0\n",
      "2             1          0\n",
      "3             1          0\n",
      "4             1          0\n",
      "...         ...        ...\n",
      "2579          0          1\n",
      "2580          0          1\n",
      "2581          0          1\n",
      "2582          1          0\n",
      "2583          1          0\n",
      "\n",
      "[2584 rows x 2 columns]\n"
     ]
    }
   ],
   "source": [
    "# Convert seismic to onehotencoded\n",
    "encoded_seismic = pd.get_dummies(data['seismic'])\n",
    "encoded_seismic.columns = ['seismic_a', 'seismic_b'];\n",
    "print(encoded_seismic)"
   ]
  },
  {
   "cell_type": "code",
   "execution_count": 7,
   "metadata": {},
   "outputs": [
    {
     "name": "stdout",
     "output_type": "stream",
     "text": [
      "      seismoacoustic_a  seismoacoustic_b  seismoacoustic_c\n",
      "0                    1                 0                 0\n",
      "1                    1                 0                 0\n",
      "2                    1                 0                 0\n",
      "3                    1                 0                 0\n",
      "4                    1                 0                 0\n",
      "...                ...               ...               ...\n",
      "2579                 1                 0                 0\n",
      "2580                 1                 0                 0\n",
      "2581                 1                 0                 0\n",
      "2582                 1                 0                 0\n",
      "2583                 1                 0                 0\n",
      "\n",
      "[2584 rows x 3 columns]\n"
     ]
    }
   ],
   "source": [
    "# Convert seismoacoustic to onehotencoded\n",
    "encoded_seismoacoustic = pd.get_dummies(data['seismoacoustic'])\n",
    "encoded_seismoacoustic.columns = ['seismoacoustic_a', 'seismoacoustic_b', 'seismoacoustic_c'];\n",
    "print(encoded_seismoacoustic);"
   ]
  },
  {
   "cell_type": "code",
   "execution_count": 8,
   "metadata": {},
   "outputs": [
    {
     "name": "stdout",
     "output_type": "stream",
     "text": [
      "0       1\n",
      "1       1\n",
      "2       1\n",
      "3       1\n",
      "4       1\n",
      "       ..\n",
      "2579    0\n",
      "2580    0\n",
      "2581    0\n",
      "2582    0\n",
      "2583    0\n",
      "Name: shift, Length: 2584, dtype: int64\n"
     ]
    }
   ],
   "source": [
    "# Convert shift to ones and zeros 0 for coal-getting, 1 for preparation shift);\n",
    "dataframe = pd.DataFrame(data);\n",
    "encoded_shift = dataframe['shift'].replace(b'W', 0);\n",
    "encoded_shift = encoded_shift.replace(b'N', 1);\n",
    "print(encoded_shift);"
   ]
  },
  {
   "cell_type": "code",
   "execution_count": 9,
   "metadata": {},
   "outputs": [
    {
     "name": "stdout",
     "output_type": "stream",
     "text": [
      "      ghazard_a  ghazard_b  ghazard_c\n",
      "0             1          0          0\n",
      "1             1          0          0\n",
      "2             1          0          0\n",
      "3             1          0          0\n",
      "4             1          0          0\n",
      "...         ...        ...        ...\n",
      "2579          0          1          0\n",
      "2580          1          0          0\n",
      "2581          1          0          0\n",
      "2582          1          0          0\n",
      "2583          1          0          0\n",
      "\n",
      "[2584 rows x 3 columns]\n"
     ]
    }
   ],
   "source": [
    "# Convert ghazard to onehotencoded\n",
    "encoded_ghazard = pd.get_dummies(data['ghazard'])\n",
    "encoded_ghazard.columns = ['ghazard_a', 'ghazard_b', 'ghazard_c'];\n",
    "print(encoded_ghazard);"
   ]
  },
  {
   "cell_type": "code",
   "execution_count": 10,
   "metadata": {},
   "outputs": [],
   "source": [
    "# Create a dataframe of the original data\n",
    "dataframe = pd.DataFrame(data)\n",
    "\n",
    "# Remove all data that we encoded from the original dataframe\n",
    "dataframe = dataframe.drop('seismic', axis=1);\n",
    "dataframe = dataframe.drop('seismoacoustic', axis=1);\n",
    "dataframe = dataframe.drop('shift', axis=1);\n",
    "dataframe = dataframe.drop('ghazard', axis=1);\n",
    "dataframe = dataframe.drop('class', axis=1); # Also drop class because it already has 0 and 1 values;\n",
    "\n",
    "X = dataframe.to_numpy();"
   ]
  },
  {
   "cell_type": "code",
   "execution_count": 11,
   "metadata": {},
   "outputs": [],
   "source": [
    "# Standardize data that we did not encode\n",
    "X = StandardScaler().fit_transform(X);"
   ]
  },
  {
   "cell_type": "code",
   "execution_count": 12,
   "metadata": {},
   "outputs": [
    {
     "data": {
      "text/plain": [
       "(2584, 14)"
      ]
     },
     "execution_count": 12,
     "metadata": {},
     "output_type": "execute_result"
    }
   ],
   "source": [
    "X.shape"
   ]
  },
  {
   "cell_type": "code",
   "execution_count": 13,
   "metadata": {},
   "outputs": [],
   "source": [
    "# recreate a dataframe with the Standardized data and add the encoded data\n",
    "dataframe = pd.DataFrame(X)\n",
    "dataframe = dataframe.join(encoded_seismic)\n",
    "dataframe = dataframe.join(encoded_seismoacoustic)\n",
    "dataframe = dataframe.join(encoded_ghazard)\n",
    "dataframe = dataframe.join(encoded_shift);"
   ]
  },
  {
   "cell_type": "code",
   "execution_count": 14,
   "metadata": {},
   "outputs": [],
   "source": [
    "ydf = pd.DataFrame(data['class'].astype(dtype=\"int64\"));\n",
    "ydf.columns = ['class'];\n",
    "dataframe = dataframe.join(ydf);"
   ]
  },
  {
   "cell_type": "code",
   "execution_count": 15,
   "metadata": {},
   "outputs": [
    {
     "data": {
      "text/plain": [
       "(2584, 24)"
      ]
     },
     "execution_count": 15,
     "metadata": {},
     "output_type": "execute_result"
    }
   ],
   "source": [
    "dataframe.shape"
   ]
  },
  {
   "cell_type": "code",
   "execution_count": 16,
   "metadata": {},
   "outputs": [],
   "source": [
    "X = dataframe.to_numpy()"
   ]
  },
  {
   "cell_type": "code",
   "execution_count": 17,
   "metadata": {},
   "outputs": [
    {
     "name": "stdout",
     "output_type": "stream",
     "text": [
      "(2584, 24)\n"
     ]
    }
   ],
   "source": [
    "print(X.shape)"
   ]
  },
  {
   "cell_type": "code",
   "execution_count": 18,
   "metadata": {},
   "outputs": [],
   "source": [
    "df_class_0 = [];\n",
    "df_class_1 = [];\n",
    "\n",
    "count = 0\n",
    "for index, entry in enumerate(X):\n",
    "    if (X[index,23] == 0):\n",
    "        df_class_0.append(entry);\n",
    "    else:\n",
    "        df_class_1.append(entry);\n",
    "        \n",
    "df_class_0 = pd.DataFrame(df_class_0);\n",
    "df_class_1 = pd.DataFrame(df_class_1);"
   ]
  },
  {
   "cell_type": "code",
   "execution_count": 19,
   "metadata": {},
   "outputs": [
    {
     "name": "stdout",
     "output_type": "stream",
     "text": [
      "Random over-sampling:\n",
      "Number of samples =  4828\n"
     ]
    }
   ],
   "source": [
    "# Oversample class 1 such that we have the same number of samples\n",
    "df_class_1_over = df_class_1.sample(len(df_class_0), replace=True)\n",
    "# df_class_1_over\n",
    "# # concatenate the two classes\n",
    "# # print(df_class_1_over)\n",
    "df_train_over = pd.concat([df_class_0, df_class_1_over], axis=0)\n",
    "\n",
    "# len(df_train_over)\n",
    "print('Random over-sampling:')\n",
    "print(\"Number of samples = \", len(df_train_over));\n",
    "X = df_train_over.to_numpy()"
   ]
  },
  {
   "cell_type": "code",
   "execution_count": 20,
   "metadata": {},
   "outputs": [],
   "source": [
    "# Separate the dataset into a training and a test set and keep the class included in the set\n",
    "X_train, X_test = train_test_split(X, test_size=0.2, random_state=1);"
   ]
  },
  {
   "cell_type": "code",
   "execution_count": 21,
   "metadata": {},
   "outputs": [],
   "source": [
    "y_train = X_train[:,23];\n",
    "y_test = X_test[:,23];"
   ]
  },
  {
   "cell_type": "code",
   "execution_count": 22,
   "metadata": {},
   "outputs": [],
   "source": [
    "# Remove last row of X_train and X_test because it includes the class\n",
    "X_train = np.delete(X_train, 23, 1);\n",
    "X_test = np.delete(X_test,23,1);\n",
    "y_train = y_train.astype(\"int64\");"
   ]
  },
  {
   "cell_type": "code",
   "execution_count": 23,
   "metadata": {},
   "outputs": [
    {
     "name": "stdout",
     "output_type": "stream",
     "text": [
      "<class 'numpy.int64'>\n"
     ]
    }
   ],
   "source": [
    "print(type(y_train[0]))"
   ]
  },
  {
   "cell_type": "code",
   "execution_count": 24,
   "metadata": {},
   "outputs": [
    {
     "name": "stdout",
     "output_type": "stream",
     "text": [
      "(3862, 23)\n",
      "(966, 23)\n"
     ]
    }
   ],
   "source": [
    "print(X_train.shape);\n",
    "print(X_test.shape);"
   ]
  },
  {
   "cell_type": "markdown",
   "metadata": {},
   "source": [
    "## Building and Training the neural network"
   ]
  },
  {
   "cell_type": "code",
   "execution_count": 25,
   "metadata": {},
   "outputs": [
    {
     "name": "stderr",
     "output_type": "stream",
     "text": [
      "Using TensorFlow backend.\n"
     ]
    }
   ],
   "source": [
    "from keras.models import Sequential\n",
    "from keras.layers.core import Dense, Activation\n",
    "from keras import optimizers\n",
    "from keras.utils.vis_utils import plot_model\n",
    "np.random.seed(1);"
   ]
  },
  {
   "cell_type": "code",
   "execution_count": 32,
   "metadata": {},
   "outputs": [
    {
     "name": "stdout",
     "output_type": "stream",
     "text": [
      "Epoch 1/50\n",
      "3862/3862 [==============================] - 0s 30us/step - loss: 0.5709 - accuracy: 0.7160\n",
      "Epoch 2/50\n",
      "3862/3862 [==============================] - 0s 17us/step - loss: 0.5410 - accuracy: 0.7361\n",
      "Epoch 3/50\n",
      "3862/3862 [==============================] - 0s 16us/step - loss: 0.5212 - accuracy: 0.7478\n",
      "Epoch 4/50\n",
      "3862/3862 [==============================] - 0s 17us/step - loss: 0.5099 - accuracy: 0.7512\n",
      "Epoch 5/50\n",
      "3862/3862 [==============================] - 0s 17us/step - loss: 0.5020 - accuracy: 0.7550\n",
      "Epoch 6/50\n",
      "3862/3862 [==============================] - 0s 17us/step - loss: 0.4993 - accuracy: 0.7646\n",
      "Epoch 7/50\n",
      "3862/3862 [==============================] - 0s 18us/step - loss: 0.4875 - accuracy: 0.7659\n",
      "Epoch 8/50\n",
      "3862/3862 [==============================] - 0s 17us/step - loss: 0.4787 - accuracy: 0.7773\n",
      "Epoch 9/50\n",
      "3862/3862 [==============================] - 0s 18us/step - loss: 0.4667 - accuracy: 0.7784\n",
      "Epoch 10/50\n",
      "3862/3862 [==============================] - 0s 17us/step - loss: 0.4687 - accuracy: 0.7815\n",
      "Epoch 11/50\n",
      "3862/3862 [==============================] - 0s 18us/step - loss: 0.4644 - accuracy: 0.7843\n",
      "Epoch 12/50\n",
      "3862/3862 [==============================] - 0s 21us/step - loss: 0.4595 - accuracy: 0.7952\n",
      "Epoch 13/50\n",
      "3862/3862 [==============================] - 0s 22us/step - loss: 0.4460 - accuracy: 0.7913\n",
      "Epoch 14/50\n",
      "3862/3862 [==============================] - 0s 18us/step - loss: 0.4443 - accuracy: 0.7991\n",
      "Epoch 15/50\n",
      "3862/3862 [==============================] - 0s 20us/step - loss: 0.4152 - accuracy: 0.8076\n",
      "Epoch 16/50\n",
      "3862/3862 [==============================] - 0s 19us/step - loss: 0.4157 - accuracy: 0.8125\n",
      "Epoch 17/50\n",
      "3862/3862 [==============================] - 0s 19us/step - loss: 0.4130 - accuracy: 0.8102\n",
      "Epoch 18/50\n",
      "3862/3862 [==============================] - 0s 24us/step - loss: 0.4203 - accuracy: 0.8068\n",
      "Epoch 19/50\n",
      "3862/3862 [==============================] - 0s 22us/step - loss: 0.4198 - accuracy: 0.8120\n",
      "Epoch 20/50\n",
      "3862/3862 [==============================] - 0s 25us/step - loss: 0.3857 - accuracy: 0.8353\n",
      "Epoch 21/50\n",
      "3862/3862 [==============================] - 0s 24us/step - loss: 0.4218 - accuracy: 0.8159\n",
      "Epoch 22/50\n",
      "3862/3862 [==============================] - 0s 27us/step - loss: 0.3838 - accuracy: 0.8257\n",
      "Epoch 23/50\n",
      "3862/3862 [==============================] - 0s 24us/step - loss: 0.3868 - accuracy: 0.8301\n",
      "Epoch 24/50\n",
      "3862/3862 [==============================] - 0s 16us/step - loss: 0.4034 - accuracy: 0.8208\n",
      "Epoch 25/50\n",
      "3862/3862 [==============================] - 0s 19us/step - loss: 0.3685 - accuracy: 0.8309\n",
      "Epoch 26/50\n",
      "3862/3862 [==============================] - 0s 19us/step - loss: 0.3795 - accuracy: 0.8296\n",
      "Epoch 27/50\n",
      "3862/3862 [==============================] - 0s 14us/step - loss: 0.3666 - accuracy: 0.8410\n",
      "Epoch 28/50\n",
      "3862/3862 [==============================] - 0s 13us/step - loss: 0.3475 - accuracy: 0.8472\n",
      "Epoch 29/50\n",
      "3862/3862 [==============================] - 0s 17us/step - loss: 0.3689 - accuracy: 0.8332\n",
      "Epoch 30/50\n",
      "3862/3862 [==============================] - 0s 15us/step - loss: 0.3684 - accuracy: 0.8400\n",
      "Epoch 31/50\n",
      "3862/3862 [==============================] - 0s 14us/step - loss: 0.3455 - accuracy: 0.8503\n",
      "Epoch 32/50\n",
      "3862/3862 [==============================] - 0s 16us/step - loss: 0.3404 - accuracy: 0.8441\n",
      "Epoch 33/50\n",
      "3862/3862 [==============================] - 0s 16us/step - loss: 0.3525 - accuracy: 0.8519\n",
      "Epoch 34/50\n",
      "3862/3862 [==============================] - 0s 15us/step - loss: 0.3802 - accuracy: 0.8540\n",
      "Epoch 35/50\n",
      "3862/3862 [==============================] - 0s 16us/step - loss: 0.3477 - accuracy: 0.8465\n",
      "Epoch 36/50\n",
      "3862/3862 [==============================] - 0s 16us/step - loss: 0.3368 - accuracy: 0.8553\n",
      "Epoch 37/50\n",
      "3862/3862 [==============================] - 0s 15us/step - loss: 0.3406 - accuracy: 0.8625\n",
      "Epoch 38/50\n",
      "3862/3862 [==============================] - 0s 16us/step - loss: 0.3078 - accuracy: 0.8654\n",
      "Epoch 39/50\n",
      "3862/3862 [==============================] - 0s 15us/step - loss: 0.3207 - accuracy: 0.8646\n",
      "Epoch 40/50\n",
      "3862/3862 [==============================] - 0s 23us/step - loss: 0.3226 - accuracy: 0.8622\n",
      "Epoch 41/50\n",
      "3862/3862 [==============================] - 0s 34us/step - loss: 0.2985 - accuracy: 0.8729\n",
      "Epoch 42/50\n",
      "3862/3862 [==============================] - 0s 34us/step - loss: 0.2935 - accuracy: 0.8729\n",
      "Epoch 43/50\n",
      "3862/3862 [==============================] - 0s 25us/step - loss: 0.3227 - accuracy: 0.8674\n",
      "Epoch 44/50\n",
      "3862/3862 [==============================] - 0s 29us/step - loss: 0.2928 - accuracy: 0.8749\n",
      "Epoch 45/50\n",
      "3862/3862 [==============================] - 0s 21us/step - loss: 0.3052 - accuracy: 0.8770\n",
      "Epoch 46/50\n",
      "3862/3862 [==============================] - 0s 17us/step - loss: 0.2694 - accuracy: 0.8933\n",
      "Epoch 47/50\n",
      "3862/3862 [==============================] - 0s 21us/step - loss: 0.3020 - accuracy: 0.8814\n",
      "Epoch 48/50\n",
      "3862/3862 [==============================] - 0s 15us/step - loss: 0.3170 - accuracy: 0.8700\n",
      "Epoch 49/50\n",
      "3862/3862 [==============================] - 0s 16us/step - loss: 0.3109 - accuracy: 0.8682\n",
      "Epoch 50/50\n",
      "3862/3862 [==============================] - 0s 16us/step - loss: 0.2950 - accuracy: 0.8799\n"
     ]
    }
   ],
   "source": [
    "n_h=100; n_o=1; lrate=1; nepochs=50; isVerbose=1;\n",
    "n_i = X_train.shape[1] # 23 distinct features in our data not\n",
    "model = Sequential()\n",
    "model.add(Dense(n_h, input_dim=n_i, activation=\"relu\"));\n",
    "model.add(Dense(n_o, activation = \"sigmoid\"));\n",
    "\n",
    "model.compile(optimizer=optimizers.SGD(lr=lrate), loss='binary_crossentropy', metrics=['accuracy'])\n",
    "history = model.fit(X_train, y_train, epochs=nepochs, batch_size=64, verbose=isVerbose)"
   ]
  },
  {
   "cell_type": "code",
   "execution_count": 32,
   "metadata": {},
   "outputs": [],
   "source": [
    "yPredicted = model.predict_classes(X_test);"
   ]
  },
  {
   "cell_type": "code",
   "execution_count": 34,
   "metadata": {},
   "outputs": [
    {
     "name": "stdout",
     "output_type": "stream",
     "text": [
      "Correct predictions on test data: 90.52224371373308 %\n"
     ]
    }
   ],
   "source": [
    "# Count number of correct predictions on test data\n",
    "correct_values_count = 0\n",
    "count = 0\n",
    "for index,val in enumerate(yPredicted):\n",
    "    if (yPredicted[index][0] == y_test[index]):\n",
    "        correct_values_count += 1;\n",
    "    if (yPredicted[index][0] == 1):\n",
    "        count+=1;\n",
    "print(\"Correct predictions on test data:\", correct_values_count / len(y_test) * 100, \"%\")"
   ]
  },
  {
   "cell_type": "code",
   "execution_count": null,
   "metadata": {},
   "outputs": [],
   "source": []
  },
  {
   "cell_type": "code",
   "execution_count": null,
   "metadata": {},
   "outputs": [],
   "source": []
  }
 ],
 "metadata": {
  "kernelspec": {
   "display_name": "Python 3",
   "language": "python",
   "name": "python3"
  },
  "language_info": {
   "codemirror_mode": {
    "name": "ipython",
    "version": 3
   },
   "file_extension": ".py",
   "mimetype": "text/x-python",
   "name": "python",
   "nbconvert_exporter": "python",
   "pygments_lexer": "ipython3",
   "version": "3.7.1"
  }
 },
 "nbformat": 4,
 "nbformat_minor": 4
}
